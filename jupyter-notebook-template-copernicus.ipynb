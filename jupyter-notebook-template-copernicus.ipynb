{
 "cells": [
  {
   "cell_type": "markdown",
   "metadata": {
    "tags": [
     "logo"
    ]
   },
   "source": [
    "[![logo](https://climate.copernicus.eu/sites/default/files/custom-uploads/branding/LogoLine_horizon_C3S.png)](https://climate.copernicus.eu)"
   ]
  },
  {
   "cell_type": "markdown",
   "metadata": {},
   "source": [
    "*The logoline above is valid for C3S. For CAMS, joint services and other logo options, please visit https://climate.copernicus.eu/branding-guidelines#Logolines.*"
   ]
  },
  {
   "cell_type": "markdown",
   "metadata": {},
   "source": [
    "# Template for ECMWF Jupyter notebook-based learning resources *[H1]*"
   ]
  },
  {
   "cell_type": "markdown",
   "metadata": {},
   "source": [
    "*Make the title as clear and concise as possible.*"
   ]
  },
  {
   "cell_type": "markdown",
   "metadata": {
    "tags": [
     "run"
    ]
   },
   "source": [
    "**This notebook can be run on free online platforms, such as Binder, Kaggle and Colab. The links to run this notebook in these environments are provided here, but please note they are not supported by ECMWF.** [![binder](https://mybinder.org/badge.svg)](https://mybinder.org/v2/gh/ecmwf-training/jupyter-notebook-template/main?labpath=jupyter-notebook-template-copernicus.ipynb)\n",
    "[![kaggle](https://kaggle.com/static/images/open-in-kaggle.svg)](https://kaggle.com/kernels/welcome?src=https://github.com/ecmwf-training/jupyter-notebook-template/blob/main/jupyter-notebook-template-copernicus.ipynb)\n",
    "[![colab](https://colab.research.google.com/assets/colab-badge.svg)](https://colab.research.google.com/github/ecmwf-training/jupyter-notebook-template/blob/main/jupyter-notebook-template-copernicus.ipynb)\n"
   ]
  },
  {
   "cell_type": "markdown",
   "metadata": {
    "tags": [
     "objectives"
    ]
   },
   "source": [
    "## Learning objectives 🎯 *[H2]*"
   ]
  },
  {
   "cell_type": "markdown",
   "metadata": {
    "tags": [
     "objectives"
    ]
   },
   "source": [
    "*Describe briefly what the learner/user can expect to learn in this notebook. Address the learner directly, for example:*\n",
    "\n",
    "You will use and adapt this Jupyter notebook template to create your own Jupyter notebook tutorials. Having followed this notebook, you will gain an understanding of the overall layout, common elements, metadata schema and best practices to apply in creating Jupyter notebook based learning resources for ECMWF."
   ]
  },
  {
   "cell_type": "markdown",
   "metadata": {
    "tags": [
     "install"
    ]
   },
   "source": [
    "## How to use this template *[H2]*"
   ]
  },
  {
   "cell_type": "markdown",
   "metadata": {},
   "source": [
    "*Insert here any necessary instructions to set-up the environment of leaners, any background information on data, projects, access to data catalogues, or preliminary steps necessary to run the notebooks. These may include instructions for installing packages, imports, etc.*"
   ]
  },
  {
   "cell_type": "markdown",
   "metadata": {},
   "source": [
    "Text *in italic* includes instructions for the learner/user, while normal text includes examples, or instructions directly pertaining to this template. [H1], [H2], etc. refer to header levels 1, 2, etc.\n",
    "\n",
    "In addition to the code and markdown cells, please also inspect and populate the metadata, at both the notebook level, and for certain cells. More information about this is provided here: https://github.com/ecmwf-training/jn-metadata-schema"
   ]
  },
  {
   "cell_type": "markdown",
   "metadata": {},
   "source": [
    "### Prepare your environment *[H3]*"
   ]
  },
  {
   "cell_type": "markdown",
   "metadata": {
    "tags": [
     "install",
     "api"
    ]
   },
   "source": [
    "*You may not need this subsection, it has been inserted here as an example of a tutorial/guide on how to access and explore data from the C3S Climate Data Store.*\n",
    "\n",
    "Before we begin we must prepare our environment. This includes installing the Application Programming Interface (API) of the Climate Data Store (CDS), setting up our CDS API credentials and importing the various Python packages that we will need.\n",
    "\n",
    "The code below will install the CDS API. It is assumed the other required Python package, [xarray](https://xarray.dev/), is already installed, which would be the case if you are using the free online Jupyterlab environments (see links above)."
   ]
  },
  {
   "cell_type": "markdown",
   "metadata": {},
   "source": [
    "#### Install CDS API *[H4]*"
   ]
  },
  {
   "cell_type": "code",
   "execution_count": 1,
   "metadata": {
    "tags": [
     "install",
     "api"
    ]
   },
   "outputs": [],
   "source": [
    "!pip install -q cdsapi"
   ]
  },
  {
   "cell_type": "markdown",
   "metadata": {
    "tags": [
     "install"
    ]
   },
   "source": [
    "*Include installation instructions for other packages, if necessary. However, in training events it is convenient to use free Jupyter platforms that already have key libraries (such as numpy, matplotlib, etc.) installed. These platforms differ, for example Colab does not include Cartopy, which can be installed by adding the line of code `!pip install cartopy`. Binder creates a bespoke environment from your environment.yml file, but this can take some time to create.*\n",
    "\n",
    "*Wherever possible, use ECMWF packages, such as [Earthkit](https://earthkit-data.readthedocs.io/en/latest/).*"
   ]
  },
  {
   "cell_type": "markdown",
   "metadata": {
    "tags": [
     "api"
    ]
   },
   "source": [
    "#### Add your CDS API credentials"
   ]
  },
  {
   "cell_type": "markdown",
   "metadata": {
    "tags": [
     "api"
    ]
   },
   "source": [
    "To set up your CDS API credentials, please login/register on the [CDS](https://cds-beta.climate.copernicus.eu/), then follow the [instructions here](https://cds-beta.climate.copernicus.eu/how-to-api) to obtain your API key.\n",
    "\n",
    "You can add this API key to your current session by uncommenting the code below and replacing `#########` with your API key."
   ]
  },
  {
   "cell_type": "code",
   "execution_count": 2,
   "metadata": {
    "tags": [
     "api"
    ]
   },
   "outputs": [],
   "source": [
    "import os\n",
    "os.environ['CDSAPI_URL'] = 'https://cds.climate.copernicus.eu/api/v2'\n",
    "os.environ['CDSAPI_KEY'] = '##################################'"
   ]
  },
  {
   "cell_type": "markdown",
   "metadata": {
    "tags": [
     "import"
    ]
   },
   "source": [
    "### Import libraries"
   ]
  },
  {
   "cell_type": "markdown",
   "metadata": {
    "tags": [
     "import"
    ]
   },
   "source": [
    "*If appropriate for the target audience, briefly describe libraries in Markdown cells, before listing the imports in code cells. E.g.*\n",
    "\n",
    "We will be working with data in NetCDF format. To best handle this data, we will use the [Xarray](https://xarray.dev/) library for working with multidimensional arrays."
   ]
  },
  {
   "cell_type": "code",
   "execution_count": 3,
   "metadata": {
    "tags": [
     "import"
    ]
   },
   "outputs": [
    {
     "name": "stderr",
     "output_type": "stream",
     "text": [
      "/opt/homebrew/Caskroom/miniforge/base/envs/CDS/lib/python3.11/site-packages/pyproj/__init__.py:89: UserWarning: pyproj unable to set database path.\n",
      "  _pyproj_global_context_initialize()\n"
     ]
    }
   ],
   "source": [
    "# To access data programmatically from the CDS\n",
    "import cdsapi\n",
    "\n",
    "# For working with multidimensional arrays\n",
    "import xarray as xr"
   ]
  },
  {
   "cell_type": "markdown",
   "metadata": {},
   "source": [
    "Here we specify a data directory in which we will download our data and all output files that we will generate:"
   ]
  },
  {
   "cell_type": "code",
   "execution_count": 2,
   "metadata": {},
   "outputs": [],
   "source": [
    "DATADIR = '.'"
   ]
  },
  {
   "cell_type": "markdown",
   "metadata": {},
   "source": [
    "## Explore data"
   ]
  },
  {
   "cell_type": "markdown",
   "metadata": {},
   "source": [
    "*This section may include the main subject of the tutorial, which in the example given here, is to simply search for a dataset on the C3S Climate Data Store, download it, and read it into a Python object.*\n",
    "\n",
    "We will now search, download and explore climate reanalysis data from the [Climate Data Store](https://cds.climate.copernicus.eu/). The dataset we will use is the [ERA5 monthly averaged data on single levels from 1940 to present](https://cds.climate.copernicus.eu/datasets/reanalysis-era5-single-levels-monthly-means?tab=overview). ERA5 is the 5th version of the ECMWF Reanalysis dataset. Reanalysis uses a state of the art forecast model and data assimilation system to create a consistent \"map without gaps\" of observed and modelled climate variables over the past decades."
   ]
  },
  {
   "cell_type": "markdown",
   "metadata": {},
   "source": [
    "### Search and download data"
   ]
  },
  {
   "cell_type": "markdown",
   "metadata": {},
   "source": [
    "Having selected the correct dataset, we now need to specify what product type, variables, temporal and geographic coverage we are interested in. These can all be selected in the **\"Download data\"** tab. In this tab a form appears in which we will select the following parameters to download:\n",
    "\n",
    "- Product type: `Monthly averaged reanalysis`\n",
    "- Variable: `2m temperature`\n",
    "- Year: `2023`\n",
    "- Month: `June, July and August`\n",
    "- Time: `00:00` (default)\n",
    "- Data Format: `NetCDF`\n",
    "\n",
    "At the end of the download form, select **\"Show API request\"**. This will reveal a block of code, which you can simply copy and paste into a cell of your Jupyter Notebook (see cell below). Having copied the API request into the cell below, running this will retrieve and download the data you requested into your local directory. However, before you run the cell below, the **terms and conditions** of this particular dataset need to have been accepted in the CDS. This needs to be done only once per dataset and per user. The option to view and accept these conditions is given at the end of the download form, just above the **\"Show API request\"** option. "
   ]
  },
  {
   "cell_type": "markdown",
   "metadata": {},
   "source": [
    ":warning: Please remember to **accept the terms and conditions** of the dataset, at the bottom of the CDS download form!"
   ]
  },
  {
   "cell_type": "markdown",
   "metadata": {
    "tags": [
     "request"
    ]
   },
   "source": [
    "With the API request copied into the cell below, running this cell will retrieve and download the data you requested into your local directory."
   ]
  },
  {
   "cell_type": "code",
   "execution_count": 6,
   "metadata": {
    "tags": [
     "request"
    ]
   },
   "outputs": [
    {
     "name": "stderr",
     "output_type": "stream",
     "text": [
      "2024-08-29 15:18:41,821 INFO Request ID is 470645da-5244-4792-a566-abfb9b2a81f4\n",
      "2024-08-29 15:18:41,881 INFO status has been updated to accepted\n"
     ]
    }
   ],
   "source": [
    "dataset = \"reanalysis-era5-single-levels-monthly-means\"\n",
    "request = {\n",
    "    \"product_type\": [\"monthly_averaged_reanalysis\"],\n",
    "    \"variable\": [\"2m_temperature\"],\n",
    "    \"year\": [\"2023\"],\n",
    "    \"month\": [\"06\", \"07\", \"08\"],\n",
    "    \"time\": [\"00:00\"],\n",
    "    \"data_format\": \"netcdf\",\n",
    "    \"download_format\": \"unarchived\"\n",
    "}\n",
    "\n",
    "client = cdsapi.Client()\n",
    "client.retrieve(dataset, request).download(f'{DATADIR}/dataset-filename.nc')"
   ]
  },
  {
   "cell_type": "markdown",
   "metadata": {},
   "source": [
    "### Inspect data"
   ]
  },
  {
   "cell_type": "markdown",
   "metadata": {},
   "source": [
    "Now that we have downloaded the data, we can inspect it. We have requested the data in NetCDF format. This is a commonly used format for array-oriented scientific data. To read and process this data we will make use of the [Xarray](http://xarray.pydata.org/en/stable/) library. Xarray is an open source project and Python package that makes working with labelled multi-dimensional arrays simple and efficient. We will read the data from our NetCDF file into an [xarray.Dataset](https://xarray.pydata.org/en/stable/generated/xarray.Dataset.html)."
   ]
  },
  {
   "cell_type": "code",
   "execution_count": null,
   "metadata": {},
   "outputs": [],
   "source": [
    "t2m = f'{DATADIR}/dataset-filename.nc'\n",
    "ds = xr.open_dataset(t2m)"
   ]
  },
  {
   "cell_type": "markdown",
   "metadata": {},
   "source": [
    "Let us now inspect our newly created Xarray dataset ..."
   ]
  },
  {
   "cell_type": "code",
   "execution_count": null,
   "metadata": {},
   "outputs": [],
   "source": [
    "ds"
   ]
  },
  {
   "cell_type": "markdown",
   "metadata": {},
   "source": [
    "We see that the dataset has one variable called **\"t2m\"**, which stands for \"2 metre temperature\", and three coordinates of **longitude**, **latitude** and **time**."
   ]
  },
  {
   "cell_type": "markdown",
   "metadata": {
    "tags": [
     "key-messages"
    ]
   },
   "source": [
    "## Take home messages 📌"
   ]
  },
  {
   "cell_type": "markdown",
   "metadata": {
    "tags": [
     "key-messages"
    ]
   },
   "source": [
    "*In this section, summarise key take home messages.*\n",
    "\n",
    "- The [Climate Data Store](https://cds.climate.copernicus.eu/) contains a wealth of freely available climate data.\n",
    "- This data can be searched and downloaded using a web interface, or programmatically using an API.\n",
    "- Remember to accept the terms and conditions of datasets prior to download!\n",
    "- Having dowloaded the data, this can be read into a Python object, explored, processed and visualised using many free community tools, such as [Xarray](https://xarray.dev/) and [Earthkit](https://earthkit-data.readthedocs.io/en/latest/)."
   ]
  },
  {
   "cell_type": "code",
   "execution_count": null,
   "metadata": {},
   "outputs": [],
   "source": []
  }
 ],
 "metadata": {
  "author": "",
  "content_type": "Software & code",
  "data_access": "",
  "deployment": {
   "deployment_name": {
    "deployment_service": {
     "link": "",
     "service_contact": "",
     "service_provider": ""
    },
    "git": {
     "link": "",
     "service_contact": "",
     "service_provider": ""
    }
   }
  },
  "description": "",
  "image": "",
  "kernelspec": {
   "display_name": "Python 3 (ipykernel)",
   "language": "python",
   "name": "python3"
  },
  "language_info": {
   "codemirror_mode": {
    "name": "ipython",
    "version": 3
   },
   "file_extension": ".py",
   "mimetype": "text/x-python",
   "name": "python",
   "nbconvert_exporter": "python",
   "pygments_lexer": "ipython3",
   "version": "3.10.9"
  },
  "license": "",
  "metadata_schema_version": "",
  "originator": "",
  "tags": {
   "category": "",
   "data_product": "",
   "data_provider": "",
   "data_type": "",
   "subtheme": "",
   "theme": "",
   "variable": ""
  },
  "title": "",
  "version": "",
  "version_date": ""
 },
 "nbformat": 4,
 "nbformat_minor": 4
}
